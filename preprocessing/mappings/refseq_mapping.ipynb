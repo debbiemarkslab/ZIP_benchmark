{
 "cells": [
  {
   "cell_type": "code",
   "execution_count": 1,
   "metadata": {},
   "outputs": [],
   "source": [
    "from glob import glob\n",
    "import os\n",
    "import re\n",
    "\n",
    "from Bio import Entrez, GenBank\n",
    "import pandas as pd\n",
    "from tqdm.auto import tqdm"
   ]
  },
  {
   "cell_type": "code",
   "execution_count": null,
   "metadata": {},
   "outputs": [],
   "source": [
    "# TODO move the RefSeq uniprot mappings here too"
   ]
  },
  {
   "cell_type": "code",
   "execution_count": 2,
   "metadata": {},
   "outputs": [],
   "source": [
    "# Inputs\n",
    "mapping_folder = \"../../data/mappings/\"\n",
    "raw_refseq_gpff_folder = mapping_folder+\"/raw_refseq_mapping_gpff/\" #\"/n/groups/marks/databases/ukbiobank/users/rose/data/mapping/refseq_mapping_gff_updated/\"\n",
    "\n",
    "# Outputs\n",
    "mapping_file_out = mapping_folder+\"refseq_mapping_gff.tsv\""
   ]
  },
  {
   "cell_type": "code",
   "execution_count": 7,
   "metadata": {},
   "outputs": [
    {
     "data": {
      "text/plain": [
       "'2023_05_22'"
      ]
     },
     "execution_count": 7,
     "metadata": {},
     "output_type": "execute_result"
    }
   ],
   "source": [
    "from datetime import date\n",
    "def today():\n",
    "    return date.today().strftime(\"%Y_%m_%d\")\n",
    "today()"
   ]
  },
  {
   "attachments": {},
   "cell_type": "markdown",
   "metadata": {},
   "source": [
    "**If the files haven't been downloaded, download as follows:**"
   ]
  },
  {
   "cell_type": "code",
   "execution_count": 14,
   "metadata": {},
   "outputs": [
    {
     "name": "stdout",
     "output_type": "stream",
     "text": [
      "--2023-05-22 05:48:44--  https://ftp.ncbi.nlm.nih.gov/refseq/H_sapiens/mRNA_Prot//human.1.protein.gpff.gz\n",
      "Resolving ftp.ncbi.nlm.nih.gov (ftp.ncbi.nlm.nih.gov)... 165.112.9.228, 165.112.9.229, 2607:f220:41f:250::230, ...\n",
      "Connecting to ftp.ncbi.nlm.nih.gov (ftp.ncbi.nlm.nih.gov)|165.112.9.228|:443... connected.\n",
      "HTTP request sent, awaiting response... 200 OK\n",
      "Length: 1869331 (1.8M) [application/x-gzip]\n",
      "Saving to: ‘../../data/mappings//raw_refseq_mapping_gpff//2023_05_22_human.1.protein.gpff.gz’\n",
      "\n",
      "100%[======================================>] 1,869,331   --.-K/s   in 0.1s    \n",
      "\n",
      "2023-05-22 05:48:44 (16.4 MB/s) - ‘../../data/mappings//raw_refseq_mapping_gpff//2023_05_22_human.1.protein.gpff.gz’ saved [1869331/1869331]\n",
      "\n",
      "--2023-05-22 05:48:45--  https://ftp.ncbi.nlm.nih.gov/refseq/H_sapiens/mRNA_Prot//human.2.protein.gpff.gz\n",
      "Resolving ftp.ncbi.nlm.nih.gov (ftp.ncbi.nlm.nih.gov)... 165.112.9.229, 165.112.9.228, 2607:f220:41f:250::229, ...\n",
      "Connecting to ftp.ncbi.nlm.nih.gov (ftp.ncbi.nlm.nih.gov)|165.112.9.229|:443... connected.\n",
      "HTTP request sent, awaiting response... 200 OK\n",
      "Length: 32323772 (31M) [application/x-gzip]\n",
      "Saving to: ‘../../data/mappings//raw_refseq_mapping_gpff//2023_05_22_human.2.protein.gpff.gz’\n",
      "\n",
      "100%[======================================>] 32,323,772  25.0MB/s   in 1.2s   \n",
      "\n",
      "2023-05-22 05:48:46 (25.0 MB/s) - ‘../../data/mappings//raw_refseq_mapping_gpff//2023_05_22_human.2.protein.gpff.gz’ saved [32323772/32323772]\n",
      "\n",
      "--2023-05-22 05:48:54--  https://ftp.ncbi.nlm.nih.gov/refseq/H_sapiens/mRNA_Prot//human.3.protein.gpff.gz\n",
      "Resolving ftp.ncbi.nlm.nih.gov (ftp.ncbi.nlm.nih.gov)... 165.112.9.228, 165.112.9.229, 2607:f220:41f:250::230, ...\n",
      "Connecting to ftp.ncbi.nlm.nih.gov (ftp.ncbi.nlm.nih.gov)|165.112.9.228|:443... connected.\n",
      "HTTP request sent, awaiting response... 200 OK\n",
      "Length: 32577643 (31M) [application/x-gzip]\n",
      "Saving to: ‘../../data/mappings//raw_refseq_mapping_gpff//2023_05_22_human.3.protein.gpff.gz’\n",
      "\n",
      "100%[======================================>] 32,577,643  25.1MB/s   in 1.2s   \n",
      "\n",
      "2023-05-22 05:48:55 (25.1 MB/s) - ‘../../data/mappings//raw_refseq_mapping_gpff//2023_05_22_human.3.protein.gpff.gz’ saved [32577643/32577643]\n",
      "\n",
      "--2023-05-22 05:49:04--  https://ftp.ncbi.nlm.nih.gov/refseq/H_sapiens/mRNA_Prot//human.4.protein.gpff.gz\n",
      "Resolving ftp.ncbi.nlm.nih.gov (ftp.ncbi.nlm.nih.gov)... 165.112.9.229, 165.112.9.228, 2607:f220:41f:250::229, ...\n",
      "Connecting to ftp.ncbi.nlm.nih.gov (ftp.ncbi.nlm.nih.gov)|165.112.9.229|:443... connected.\n",
      "HTTP request sent, awaiting response... 200 OK\n",
      "Length: 33916075 (32M) [application/x-gzip]\n",
      "Saving to: ‘../../data/mappings//raw_refseq_mapping_gpff//2023_05_22_human.4.protein.gpff.gz’\n",
      "\n",
      "100%[======================================>] 33,916,075  26.1MB/s   in 1.2s   \n",
      "\n",
      "2023-05-22 05:49:05 (26.1 MB/s) - ‘../../data/mappings//raw_refseq_mapping_gpff//2023_05_22_human.4.protein.gpff.gz’ saved [33916075/33916075]\n",
      "\n",
      "--2023-05-22 05:49:14--  https://ftp.ncbi.nlm.nih.gov/refseq/H_sapiens/mRNA_Prot//human.5.protein.gpff.gz\n",
      "Resolving ftp.ncbi.nlm.nih.gov (ftp.ncbi.nlm.nih.gov)... 165.112.9.228, 165.112.9.229, 2607:f220:41f:250::230, ...\n",
      "Connecting to ftp.ncbi.nlm.nih.gov (ftp.ncbi.nlm.nih.gov)|165.112.9.228|:443... connected.\n",
      "HTTP request sent, awaiting response... 200 OK\n",
      "Length: 32498763 (31M) [application/x-gzip]\n",
      "Saving to: ‘../../data/mappings//raw_refseq_mapping_gpff//2023_05_22_human.5.protein.gpff.gz’\n",
      "\n",
      "100%[======================================>] 32,498,763  27.5MB/s   in 1.1s   \n",
      "\n",
      "2023-05-22 05:49:15 (27.5 MB/s) - ‘../../data/mappings//raw_refseq_mapping_gpff//2023_05_22_human.5.protein.gpff.gz’ saved [32498763/32498763]\n",
      "\n",
      "--2023-05-22 05:49:24--  https://ftp.ncbi.nlm.nih.gov/refseq/H_sapiens/mRNA_Prot//human.6.protein.gpff.gz\n",
      "Resolving ftp.ncbi.nlm.nih.gov (ftp.ncbi.nlm.nih.gov)... 165.112.9.229, 165.112.9.228, 2607:f220:41f:250::229, ...\n",
      "Connecting to ftp.ncbi.nlm.nih.gov (ftp.ncbi.nlm.nih.gov)|165.112.9.229|:443... connected.\n",
      "HTTP request sent, awaiting response... 200 OK\n",
      "Length: 10429160 (9.9M) [application/x-gzip]\n",
      "Saving to: ‘../../data/mappings//raw_refseq_mapping_gpff//2023_05_22_human.6.protein.gpff.gz’\n",
      "\n",
      "100%[======================================>] 10,429,160  20.0MB/s   in 0.5s   \n",
      "\n",
      "2023-05-22 05:49:24 (20.0 MB/s) - ‘../../data/mappings//raw_refseq_mapping_gpff//2023_05_22_human.6.protein.gpff.gz’ saved [10429160/10429160]\n",
      "\n",
      "--2023-05-22 05:49:28--  https://ftp.ncbi.nlm.nih.gov/refseq/H_sapiens/mRNA_Prot//human.7.protein.gpff.gz\n",
      "Resolving ftp.ncbi.nlm.nih.gov (ftp.ncbi.nlm.nih.gov)... 165.112.9.228, 165.112.9.229, 2607:f220:41f:250::230, ...\n",
      "Connecting to ftp.ncbi.nlm.nih.gov (ftp.ncbi.nlm.nih.gov)|165.112.9.228|:443... connected.\n",
      "HTTP request sent, awaiting response... 200 OK\n",
      "Length: 4523070 (4.3M) [application/x-gzip]\n",
      "Saving to: ‘../../data/mappings//raw_refseq_mapping_gpff//2023_05_22_human.7.protein.gpff.gz’\n",
      "\n",
      "100%[======================================>] 4,523,070   21.1MB/s   in 0.2s   \n",
      "\n",
      "2023-05-22 05:49:29 (21.1 MB/s) - ‘../../data/mappings//raw_refseq_mapping_gpff//2023_05_22_human.7.protein.gpff.gz’ saved [4523070/4523070]\n",
      "\n",
      "--2023-05-22 05:49:32--  https://ftp.ncbi.nlm.nih.gov/refseq/H_sapiens/mRNA_Prot//human.8.protein.gpff.gz\n",
      "Resolving ftp.ncbi.nlm.nih.gov (ftp.ncbi.nlm.nih.gov)... 165.112.9.229, 165.112.9.228, 2607:f220:41f:250::229, ...\n",
      "Connecting to ftp.ncbi.nlm.nih.gov (ftp.ncbi.nlm.nih.gov)|165.112.9.229|:443... connected.\n",
      "HTTP request sent, awaiting response... 200 OK\n",
      "Length: 5292229 (5.0M) [application/x-gzip]\n",
      "Saving to: ‘../../data/mappings//raw_refseq_mapping_gpff//2023_05_22_human.8.protein.gpff.gz’\n",
      "\n",
      "100%[======================================>] 5,292,229   19.4MB/s   in 0.3s   \n",
      "\n",
      "2023-05-22 05:49:32 (19.4 MB/s) - ‘../../data/mappings//raw_refseq_mapping_gpff//2023_05_22_human.8.protein.gpff.gz’ saved [5292229/5292229]\n",
      "\n",
      "--2023-05-22 05:49:37--  https://ftp.ncbi.nlm.nih.gov/refseq/H_sapiens/mRNA_Prot//human.9.protein.gpff.gz\n",
      "Resolving ftp.ncbi.nlm.nih.gov (ftp.ncbi.nlm.nih.gov)... 165.112.9.228, 165.112.9.229, 2607:f220:41f:250::230, ...\n",
      "Connecting to ftp.ncbi.nlm.nih.gov (ftp.ncbi.nlm.nih.gov)|165.112.9.228|:443... connected.\n",
      "HTTP request sent, awaiting response... 200 OK\n",
      "Length: 4291260 (4.1M) [application/x-gzip]\n",
      "Saving to: ‘../../data/mappings//raw_refseq_mapping_gpff//2023_05_22_human.9.protein.gpff.gz’\n",
      "\n",
      "100%[======================================>] 4,291,260   23.6MB/s   in 0.2s   \n",
      "\n",
      "2023-05-22 05:49:37 (23.6 MB/s) - ‘../../data/mappings//raw_refseq_mapping_gpff//2023_05_22_human.9.protein.gpff.gz’ saved [4291260/4291260]\n",
      "\n",
      "--2023-05-22 05:49:40--  https://ftp.ncbi.nlm.nih.gov/refseq/H_sapiens/mRNA_Prot//human.10.protein.gpff.gz\n",
      "Resolving ftp.ncbi.nlm.nih.gov (ftp.ncbi.nlm.nih.gov)... 165.112.9.229, 165.112.9.228, 2607:f220:41f:250::229, ...\n",
      "Connecting to ftp.ncbi.nlm.nih.gov (ftp.ncbi.nlm.nih.gov)|165.112.9.229|:443... connected.\n",
      "HTTP request sent, awaiting response... 200 OK\n",
      "Length: 4151679 (4.0M) [application/x-gzip]\n",
      "Saving to: ‘../../data/mappings//raw_refseq_mapping_gpff//2023_05_22_human.10.protein.gpff.gz’\n",
      "\n",
      "100%[======================================>] 4,151,679   21.5MB/s   in 0.2s   \n",
      "\n",
      "2023-05-22 05:49:40 (21.5 MB/s) - ‘../../data/mappings//raw_refseq_mapping_gpff//2023_05_22_human.10.protein.gpff.gz’ saved [4151679/4151679]\n",
      "\n",
      "--2023-05-22 05:49:43--  https://ftp.ncbi.nlm.nih.gov/refseq/H_sapiens/mRNA_Prot//human.11.protein.gpff.gz\n",
      "Resolving ftp.ncbi.nlm.nih.gov (ftp.ncbi.nlm.nih.gov)... 165.112.9.228, 165.112.9.229, 2607:f220:41f:250::230, ...\n",
      "Connecting to ftp.ncbi.nlm.nih.gov (ftp.ncbi.nlm.nih.gov)|165.112.9.228|:443... connected.\n",
      "HTTP request sent, awaiting response... 200 OK\n",
      "Length: 24007770 (23M) [application/x-gzip]\n",
      "Saving to: ‘../../data/mappings//raw_refseq_mapping_gpff//2023_05_22_human.11.protein.gpff.gz’\n",
      "\n",
      "100%[======================================>] 24,007,770  25.5MB/s   in 0.9s   \n",
      "\n",
      "2023-05-22 05:49:44 (25.5 MB/s) - ‘../../data/mappings//raw_refseq_mapping_gpff//2023_05_22_human.11.protein.gpff.gz’ saved [24007770/24007770]\n",
      "\n",
      "--2023-05-22 05:50:00--  https://ftp.ncbi.nlm.nih.gov/refseq/H_sapiens/mRNA_Prot//human.12.protein.gpff.gz\n",
      "Resolving ftp.ncbi.nlm.nih.gov (ftp.ncbi.nlm.nih.gov)... 165.112.9.229, 165.112.9.228, 2607:f220:41f:250::229, ...\n",
      "Connecting to ftp.ncbi.nlm.nih.gov (ftp.ncbi.nlm.nih.gov)|165.112.9.229|:443... connected.\n",
      "HTTP request sent, awaiting response... 200 OK\n",
      "Length: 32533945 (31M) [application/x-gzip]\n",
      "Saving to: ‘../../data/mappings//raw_refseq_mapping_gpff//2023_05_22_human.12.protein.gpff.gz’\n",
      "\n",
      "100%[======================================>] 32,533,945  29.8MB/s   in 1.0s   \n",
      "\n",
      "2023-05-22 05:50:02 (29.8 MB/s) - ‘../../data/mappings//raw_refseq_mapping_gpff//2023_05_22_human.12.protein.gpff.gz’ saved [32533945/32533945]\n",
      "\n"
     ]
    }
   ],
   "source": [
    "if len(glob(raw_refseq_gpff_folder+\"/*.gpff*\")) == 0:\n",
    "    FTP_REFSEQ = \"https://ftp.ncbi.nlm.nih.gov/refseq/H_sapiens/mRNA_Prot/\"\n",
    "    # Download all the protein.gpff.gz files from the FTP server\n",
    "    for i in range(1,12+1):\n",
    "        filename = f\"human.{i}.protein.gpff.gz\"\n",
    "        !wget {FTP_REFSEQ}/{filename} -O {raw_refseq_gpff_folder}/{today()}_{filename}\n",
    "        # I like seeing the output so gzip separately\n",
    "        !gzip -d {raw_refseq_gpff_folder}/{today()}_{filename}"
   ]
  },
  {
   "cell_type": "code",
   "execution_count": 16,
   "metadata": {},
   "outputs": [
    {
     "data": {
      "application/vnd.jupyter.widget-view+json": {
       "model_id": "1aa776d9d12b4e2bbc21b04e9e1d77c2",
       "version_major": 2,
       "version_minor": 0
      },
      "text/plain": [
       "# of files processed:   0%|          | 0/12 [00:00<?, ?it/s]"
      ]
     },
     "metadata": {},
     "output_type": "display_data"
    },
    {
     "data": {
      "application/vnd.jupyter.widget-view+json": {
       "model_id": "0d289640480847f3884718c2136b6832",
       "version_major": 2,
       "version_minor": 0
      },
      "text/plain": [
       "0it [00:00, ?it/s]"
      ]
     },
     "metadata": {},
     "output_type": "display_data"
    },
    {
     "data": {
      "application/vnd.jupyter.widget-view+json": {
       "model_id": "278de494c5d842b7be26df1eaba20df9",
       "version_major": 2,
       "version_minor": 0
      },
      "text/plain": [
       "0it [00:00, ?it/s]"
      ]
     },
     "metadata": {},
     "output_type": "display_data"
    },
    {
     "data": {
      "application/vnd.jupyter.widget-view+json": {
       "model_id": "be55994a31f949029be6ccd8907b2491",
       "version_major": 2,
       "version_minor": 0
      },
      "text/plain": [
       "0it [00:00, ?it/s]"
      ]
     },
     "metadata": {},
     "output_type": "display_data"
    },
    {
     "data": {
      "application/vnd.jupyter.widget-view+json": {
       "model_id": "363f27af5e704a84b41e586a25dcec10",
       "version_major": 2,
       "version_minor": 0
      },
      "text/plain": [
       "0it [00:00, ?it/s]"
      ]
     },
     "metadata": {},
     "output_type": "display_data"
    },
    {
     "data": {
      "application/vnd.jupyter.widget-view+json": {
       "model_id": "f53529392df24dfa92bb968c9ac8d650",
       "version_major": 2,
       "version_minor": 0
      },
      "text/plain": [
       "0it [00:00, ?it/s]"
      ]
     },
     "metadata": {},
     "output_type": "display_data"
    },
    {
     "data": {
      "application/vnd.jupyter.widget-view+json": {
       "model_id": "0245c383c6fc44d4970ab06ecd6fb1b1",
       "version_major": 2,
       "version_minor": 0
      },
      "text/plain": [
       "0it [00:00, ?it/s]"
      ]
     },
     "metadata": {},
     "output_type": "display_data"
    },
    {
     "data": {
      "application/vnd.jupyter.widget-view+json": {
       "model_id": "34889ed561924450836d753841878d8b",
       "version_major": 2,
       "version_minor": 0
      },
      "text/plain": [
       "0it [00:00, ?it/s]"
      ]
     },
     "metadata": {},
     "output_type": "display_data"
    },
    {
     "data": {
      "application/vnd.jupyter.widget-view+json": {
       "model_id": "93374fc326724861abd4cf33ab1a4240",
       "version_major": 2,
       "version_minor": 0
      },
      "text/plain": [
       "0it [00:00, ?it/s]"
      ]
     },
     "metadata": {},
     "output_type": "display_data"
    },
    {
     "data": {
      "application/vnd.jupyter.widget-view+json": {
       "model_id": "603fb1589abb4b94a074c07f6796a41d",
       "version_major": 2,
       "version_minor": 0
      },
      "text/plain": [
       "0it [00:00, ?it/s]"
      ]
     },
     "metadata": {},
     "output_type": "display_data"
    },
    {
     "data": {
      "application/vnd.jupyter.widget-view+json": {
       "model_id": "5018bb62a91c480682660f0295ca77da",
       "version_major": 2,
       "version_minor": 0
      },
      "text/plain": [
       "0it [00:00, ?it/s]"
      ]
     },
     "metadata": {},
     "output_type": "display_data"
    },
    {
     "data": {
      "application/vnd.jupyter.widget-view+json": {
       "model_id": "5114b9ae1d364c749d392be96285e7ff",
       "version_major": 2,
       "version_minor": 0
      },
      "text/plain": [
       "0it [00:00, ?it/s]"
      ]
     },
     "metadata": {},
     "output_type": "display_data"
    },
    {
     "data": {
      "application/vnd.jupyter.widget-view+json": {
       "model_id": "f93fd8cce295413ebe15d3bb7e8f3c4c",
       "version_major": 2,
       "version_minor": 0
      },
      "text/plain": [
       "0it [00:00, ?it/s]"
      ]
     },
     "metadata": {},
     "output_type": "display_data"
    }
   ],
   "source": [
    "# Read and concat files into table\n",
    "record_info = []\n",
    "\n",
    "assert os.path.isdir(raw_refseq_gpff_folder)\n",
    "file_list = glob(raw_refseq_gpff_folder+\"/*.gpff\")\n",
    "assert len(file_list) > 0\n",
    "for filepath in tqdm(file_list, desc=\"# of files processed\"):\n",
    "    records = []\n",
    "    with open(filepath) as handle:\n",
    "        # TMP(Lood): Cancel the NP/XP filter below.\n",
    "        # if record.version.startswith(\"NP\")   \n",
    "        # Only keep the protein RefSeq accession prefixes starting with NP_ (not the more general XP_) \n",
    "        # https://www.ncbi.nlm.nih.gov/books/NBK50679/#RefSeqFAQ.what_is_the_difference_between\n",
    "        \n",
    "        records = [record for record in tqdm(GenBank.parse(handle), leave=False)]\n",
    "    \n",
    "    for record in records:\n",
    "        info = {'protein':record.version,'length':record.size,'definition':record.definition}\n",
    "        cds = [i for i in record.features if i.key=='CDS'][0]\n",
    "        for qualifier in cds.qualifiers:\n",
    "            key = re.sub('/|=','',qualifier.key)\n",
    "            value = re.sub('\"','',qualifier.value)\n",
    "            if key == 'db_xref':\n",
    "                info[value.split(':')[0]] = value.split(':')[-1]\n",
    "            else:\n",
    "                info[key] = value\n",
    "        #info.extend([re.sub('\"','',i.value) for i in cds.qualifiers])\n",
    "        record_info.append(info)"
   ]
  },
  {
   "cell_type": "code",
   "execution_count": 44,
   "metadata": {},
   "outputs": [
    {
     "data": {
      "text/html": [
       "<div>\n",
       "<style scoped>\n",
       "    .dataframe tbody tr th:only-of-type {\n",
       "        vertical-align: middle;\n",
       "    }\n",
       "\n",
       "    .dataframe tbody tr th {\n",
       "        vertical-align: top;\n",
       "    }\n",
       "\n",
       "    .dataframe thead th {\n",
       "        text-align: right;\n",
       "    }\n",
       "</style>\n",
       "<table border=\"1\" class=\"dataframe\">\n",
       "  <thead>\n",
       "    <tr style=\"text-align: right;\">\n",
       "      <th></th>\n",
       "      <th>protein</th>\n",
       "      <th>length</th>\n",
       "      <th>definition</th>\n",
       "      <th>gene</th>\n",
       "      <th>coded_by</th>\n",
       "      <th>GeneID</th>\n",
       "      <th>gene_synonym</th>\n",
       "      <th>CCDS</th>\n",
       "      <th>HGNC</th>\n",
       "      <th>note</th>\n",
       "      <th>MIM</th>\n",
       "      <th>GO_function</th>\n",
       "      <th>IMGT/GENE-DB</th>\n",
       "      <th>exception</th>\n",
       "      <th>ribosomal_slippage</th>\n",
       "      <th>GO_component</th>\n",
       "      <th>GO_process</th>\n",
       "    </tr>\n",
       "  </thead>\n",
       "  <tbody>\n",
       "    <tr>\n",
       "      <th>0</th>\n",
       "      <td>NP_001355183.1</td>\n",
       "      <td>382</td>\n",
       "      <td>killer cell immunoglobulin-like receptor 3DS1-...</td>\n",
       "      <td>LOC112268355</td>\n",
       "      <td>NM_001368254.1:47..1195</td>\n",
       "      <td>112268355</td>\n",
       "      <td>NaN</td>\n",
       "      <td>NaN</td>\n",
       "      <td>NaN</td>\n",
       "      <td>NaN</td>\n",
       "      <td>NaN</td>\n",
       "      <td>NaN</td>\n",
       "      <td>NaN</td>\n",
       "      <td>NaN</td>\n",
       "      <td>NaN</td>\n",
       "      <td>NaN</td>\n",
       "      <td>NaN</td>\n",
       "    </tr>\n",
       "    <tr>\n",
       "      <th>1</th>\n",
       "      <td>NP_001337906.1</td>\n",
       "      <td>44</td>\n",
       "      <td>putative keratin-associated protein 20-4 [Homo...</td>\n",
       "      <td>KRTAP20-4</td>\n",
       "      <td>NM_001350977.1:32..166</td>\n",
       "      <td>100151643</td>\n",
       "      <td>KAP20.4</td>\n",
       "      <td>CCDS86982.1</td>\n",
       "      <td>34002</td>\n",
       "      <td>NaN</td>\n",
       "      <td>NaN</td>\n",
       "      <td>NaN</td>\n",
       "      <td>NaN</td>\n",
       "      <td>NaN</td>\n",
       "      <td>NaN</td>\n",
       "      <td>NaN</td>\n",
       "      <td>NaN</td>\n",
       "    </tr>\n",
       "    <tr>\n",
       "      <th>2</th>\n",
       "      <td>NP_001243796.1</td>\n",
       "      <td>530</td>\n",
       "      <td>ubiquitin specific peptidase 17 like family me...</td>\n",
       "      <td>USP17L30</td>\n",
       "      <td>NM_001256867.1:1..1593</td>\n",
       "      <td>728419</td>\n",
       "      <td>NaN</td>\n",
       "      <td>CCDS59471.1</td>\n",
       "      <td>44458</td>\n",
       "      <td>NaN</td>\n",
       "      <td>NaN</td>\n",
       "      <td>NaN</td>\n",
       "      <td>NaN</td>\n",
       "      <td>NaN</td>\n",
       "      <td>NaN</td>\n",
       "      <td>NaN</td>\n",
       "      <td>NaN</td>\n",
       "    </tr>\n",
       "    <tr>\n",
       "      <th>3</th>\n",
       "      <td>NP_001229257.1</td>\n",
       "      <td>530</td>\n",
       "      <td>ubiquitin specific peptidase 17 like family me...</td>\n",
       "      <td>USP17L26</td>\n",
       "      <td>NM_001242328.1:1..1593</td>\n",
       "      <td>728379</td>\n",
       "      <td>NaN</td>\n",
       "      <td>CCDS59466.1</td>\n",
       "      <td>44454</td>\n",
       "      <td>NaN</td>\n",
       "      <td>NaN</td>\n",
       "      <td>NaN</td>\n",
       "      <td>NaN</td>\n",
       "      <td>NaN</td>\n",
       "      <td>NaN</td>\n",
       "      <td>NaN</td>\n",
       "      <td>NaN</td>\n",
       "    </tr>\n",
       "    <tr>\n",
       "      <th>4</th>\n",
       "      <td>NP_001243802.1</td>\n",
       "      <td>530</td>\n",
       "      <td>ubiquitin carboxyl-terminal hydrolase 17-like ...</td>\n",
       "      <td>USP17L1</td>\n",
       "      <td>NM_001256873.1:1..1593</td>\n",
       "      <td>401447</td>\n",
       "      <td>USP17L1P</td>\n",
       "      <td>CCDS78298.1</td>\n",
       "      <td>37182</td>\n",
       "      <td>NaN</td>\n",
       "      <td>NaN</td>\n",
       "      <td>NaN</td>\n",
       "      <td>NaN</td>\n",
       "      <td>NaN</td>\n",
       "      <td>NaN</td>\n",
       "      <td>NaN</td>\n",
       "      <td>NaN</td>\n",
       "    </tr>\n",
       "  </tbody>\n",
       "</table>\n",
       "</div>"
      ],
      "text/plain": [
       "          protein length                                         definition  \\\n",
       "0  NP_001355183.1    382  killer cell immunoglobulin-like receptor 3DS1-...   \n",
       "1  NP_001337906.1     44  putative keratin-associated protein 20-4 [Homo...   \n",
       "2  NP_001243796.1    530  ubiquitin specific peptidase 17 like family me...   \n",
       "3  NP_001229257.1    530  ubiquitin specific peptidase 17 like family me...   \n",
       "4  NP_001243802.1    530  ubiquitin carboxyl-terminal hydrolase 17-like ...   \n",
       "\n",
       "           gene                 coded_by     GeneID gene_synonym         CCDS  \\\n",
       "0  LOC112268355  NM_001368254.1:47..1195  112268355          NaN          NaN   \n",
       "1     KRTAP20-4   NM_001350977.1:32..166  100151643      KAP20.4  CCDS86982.1   \n",
       "2      USP17L30   NM_001256867.1:1..1593     728419          NaN  CCDS59471.1   \n",
       "3      USP17L26   NM_001242328.1:1..1593     728379          NaN  CCDS59466.1   \n",
       "4       USP17L1   NM_001256873.1:1..1593     401447     USP17L1P  CCDS78298.1   \n",
       "\n",
       "    HGNC note  MIM GO_function IMGT/GENE-DB exception ribosomal_slippage  \\\n",
       "0    NaN  NaN  NaN         NaN          NaN       NaN                NaN   \n",
       "1  34002  NaN  NaN         NaN          NaN       NaN                NaN   \n",
       "2  44458  NaN  NaN         NaN          NaN       NaN                NaN   \n",
       "3  44454  NaN  NaN         NaN          NaN       NaN                NaN   \n",
       "4  37182  NaN  NaN         NaN          NaN       NaN                NaN   \n",
       "\n",
       "  GO_component GO_process  \n",
       "0          NaN        NaN  \n",
       "1          NaN        NaN  \n",
       "2          NaN        NaN  \n",
       "3          NaN        NaN  \n",
       "4          NaN        NaN  "
      ]
     },
     "execution_count": 44,
     "metadata": {},
     "output_type": "execute_result"
    }
   ],
   "source": [
    "# Concat into df, store set of all transcripts in clinvar e.g.? Or do within ClinVar?\n",
    "df_mapping = pd.DataFrame(record_info)\n",
    "df_mapping.head()"
   ]
  },
  {
   "cell_type": "code",
   "execution_count": 45,
   "metadata": {},
   "outputs": [
    {
     "data": {
      "text/plain": [
       "66931"
      ]
     },
     "execution_count": 45,
     "metadata": {},
     "output_type": "execute_result"
    }
   ],
   "source": [
    "len(df_mapping)"
   ]
  },
  {
   "cell_type": "code",
   "execution_count": 48,
   "metadata": {},
   "outputs": [
    {
     "data": {
      "text/html": [
       "<div>\n",
       "<style scoped>\n",
       "    .dataframe tbody tr th:only-of-type {\n",
       "        vertical-align: middle;\n",
       "    }\n",
       "\n",
       "    .dataframe tbody tr th {\n",
       "        vertical-align: top;\n",
       "    }\n",
       "\n",
       "    .dataframe thead th {\n",
       "        text-align: right;\n",
       "    }\n",
       "</style>\n",
       "<table border=\"1\" class=\"dataframe\">\n",
       "  <thead>\n",
       "    <tr style=\"text-align: right;\">\n",
       "      <th></th>\n",
       "      <th>protein</th>\n",
       "      <th>length</th>\n",
       "      <th>definition</th>\n",
       "      <th>gene</th>\n",
       "      <th>coded_by</th>\n",
       "      <th>GeneID</th>\n",
       "      <th>gene_synonym</th>\n",
       "      <th>CCDS</th>\n",
       "      <th>HGNC</th>\n",
       "      <th>note</th>\n",
       "      <th>MIM</th>\n",
       "      <th>GO_function</th>\n",
       "      <th>IMGT/GENE-DB</th>\n",
       "      <th>exception</th>\n",
       "      <th>ribosomal_slippage</th>\n",
       "      <th>GO_component</th>\n",
       "      <th>GO_process</th>\n",
       "    </tr>\n",
       "  </thead>\n",
       "  <tbody>\n",
       "    <tr>\n",
       "      <th>20642</th>\n",
       "      <td>NP_055883.2</td>\n",
       "      <td>708</td>\n",
       "      <td>retrotransposon-derived protein PEG10 isoform ...</td>\n",
       "      <td>PEG10</td>\n",
       "      <td>join(NM_015068.3:480..1436, NM_015068.3:1436.....</td>\n",
       "      <td>23089</td>\n",
       "      <td>EDR; HB-1; Mar2; Mart2; MEF3L; RGAG3; RTL2; SIRH1</td>\n",
       "      <td>NaN</td>\n",
       "      <td>14005</td>\n",
       "      <td>protein translation is dependent on -1 ribosom...</td>\n",
       "      <td>609810</td>\n",
       "      <td>NaN</td>\n",
       "      <td>NaN</td>\n",
       "      <td>NaN</td>\n",
       "      <td></td>\n",
       "      <td>NaN</td>\n",
       "      <td>NaN</td>\n",
       "    </tr>\n",
       "  </tbody>\n",
       "</table>\n",
       "</div>"
      ],
      "text/plain": [
       "           protein length                                         definition  \\\n",
       "20642  NP_055883.2    708  retrotransposon-derived protein PEG10 isoform ...   \n",
       "\n",
       "        gene                                           coded_by GeneID  \\\n",
       "20642  PEG10  join(NM_015068.3:480..1436, NM_015068.3:1436.....  23089   \n",
       "\n",
       "                                            gene_synonym CCDS   HGNC  \\\n",
       "20642  EDR; HB-1; Mar2; Mart2; MEF3L; RGAG3; RTL2; SIRH1  NaN  14005   \n",
       "\n",
       "                                                    note     MIM GO_function  \\\n",
       "20642  protein translation is dependent on -1 ribosom...  609810         NaN   \n",
       "\n",
       "      IMGT/GENE-DB exception ribosomal_slippage GO_component GO_process  \n",
       "20642          NaN       NaN                             NaN        NaN  "
      ]
     },
     "metadata": {},
     "output_type": "display_data"
    }
   ],
   "source": [
    "# Skip the variants with ribosomal slippage (10 out of 67k), which will have \"join()\" in the coded_by field\n",
    "display(df_mapping[(df_mapping[\"coded_by\"].str.count(\":\") != 1)].head(1))\n",
    "assert (df_mapping[\"coded_by\"].str.count(\":\") != 1).equals(df_mapping[\"ribosomal_slippage\"].notna())\n",
    "\n",
    "# Split up the AA annotation\n",
    "df_mapping_clean = df_mapping.loc[df_mapping[\"ribosomal_slippage\"].isna()].copy()\n",
    "assert (df_mapping_clean[\"coded_by\"].str.count(\":\") == 1).all()\n",
    "\n",
    "df_mapping_clean[[\"mrna\", \"coding_pos\"]] = df_mapping_clean[\"coded_by\"].str.split(\":\", expand=True)"
   ]
  },
  {
   "cell_type": "code",
   "execution_count": 55,
   "metadata": {},
   "outputs": [],
   "source": [
    "# Write out mapping file\n",
    "if os.path.isfile(mapping_file_out):\n",
    "    print(\"Warning: Overwriting existing mapping file.\")\n",
    "df_mapping_clean.to_csv(mapping_file_out, sep=\"\\t\", index=False)"
   ]
  },
  {
   "cell_type": "code",
   "execution_count": null,
   "metadata": {},
   "outputs": [],
   "source": [
    "# Missing mappings (TODO test this)\n",
    "with open('/n/groups/marks/databases/ukbiobank/users/rose/data/mapping/refseq_mapping_gff_updated/missing.gpff', 'w') as file:\n",
    "    for protein in all_transcripts - set(df.protein):\n",
    "        handle = Entrez.efetch(db='protein', \n",
    "                               id=protein, \n",
    "                               rettype='gb',\n",
    "                               retmode='txt')\n",
    "        gb = handle.read()\n",
    "        handle.close()\n",
    "        file.write(gb)\n",
    "        file.write('\\n')"
   ]
  }
 ],
 "metadata": {
  "kernelspec": {
   "display_name": "general",
   "language": "python",
   "name": "python3"
  },
  "language_info": {
   "codemirror_mode": {
    "name": "ipython",
    "version": 3
   },
   "file_extension": ".py",
   "mimetype": "text/x-python",
   "name": "python",
   "nbconvert_exporter": "python",
   "pygments_lexer": "ipython3",
   "version": "3.10.6"
  },
  "orig_nbformat": 4
 },
 "nbformat": 4,
 "nbformat_minor": 2
}
