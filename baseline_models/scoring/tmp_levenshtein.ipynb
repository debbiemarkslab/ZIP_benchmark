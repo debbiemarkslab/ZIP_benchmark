{
 "cells": [
  {
   "cell_type": "code",
   "execution_count": 18,
   "metadata": {},
   "outputs": [],
   "source": [
    "# Inputs\n",
    "REPO_ROOT = \"../../\"\n",
    "clinvar_file = f\"{REPO_ROOT}/processed_data/ClinVar/clinvar_indel_query_mapped_filter_significance_duplications_20230206.csv\"\n",
    "\n",
    "# Outputs\n",
    "output_file = f\"{REPO_ROOT}/outputs/output_scores/ClinVar_Levenshtein/output_full.csv\""
   ]
  },
  {
   "cell_type": "code",
   "execution_count": 54,
   "metadata": {},
   "outputs": [],
   "source": [
    "import os\n",
    "\n",
    "from Levenshtein import distance\n",
    "import matplotlib.pyplot as plt\n",
    "import pandas as pd\n",
    "from scipy.stats import spearmanr\n",
    "import seaborn as sns\n",
    "from sklearn.metrics import roc_auc_score"
   ]
  },
  {
   "cell_type": "code",
   "execution_count": 20,
   "metadata": {},
   "outputs": [],
   "source": [
    "assert os.path.isfile(clinvar_file), clinvar_file\n",
    "assert os.path.isdir(os.path.dirname(output_file))"
   ]
  },
  {
   "cell_type": "code",
   "execution_count": 21,
   "metadata": {},
   "outputs": [
    {
     "name": "stdout",
     "output_type": "stream",
     "text": [
      "Index(['Name', 'Gene(s)', 'Protein change', 'Condition(s)',\n",
      "       'Clinical significance (Last reviewed)', 'Review status', 'Accession',\n",
      "       'GRCh37Chromosome', 'GRCh37Location', 'GRCh38Chromosome',\n",
      "       'GRCh38Location', 'VariationID', 'AlleleID(s)', 'dbSNP ID',\n",
      "       'Canonical SPDI', 'Unnamed: 15', 'Stars', 'Clinical significance',\n",
      "       'Last reviewed', 'hgvs_valid', 'protein_variant', 'inframe_dup',\n",
      "       'inframe_synon_stop', 'question_mark', 'square_bracket',\n",
      "       'hgvs_frameshift', 'invalid_aa', 'inframe_delins', 'inframe_ins',\n",
      "       'inframe_del', 'aa_wt_start_3letter', 'pos_start', 'aa_wt_start',\n",
      "       'protein_variant_1letter', 'refseq_id', 'refseq_protein_id', 'length',\n",
      "       'definition', 'gene', 'gene_synonym', 'coded_by', 'note', 'CCDS',\n",
      "       'GeneID', 'HGNC', 'MIM', 'GO_component', 'GO_function', 'GO_process',\n",
      "       'IMGT/GENE-DB', 'exception', 'ribosomal_slippage', 'transl_table',\n",
      "       'refseq_mrna_id', 'coding_pos', 'has_mrna_mapping', 'gene_symbol_match',\n",
      "       'protein_sequence', 'uniprot_id', 'protein_sequence_mutated',\n",
      "       'protein_seqlen', 'mutation_depth', 'filter_lt_3_aas',\n",
      "       'filter_lt_1022_seqlen', 'filter_lt_6000_seqlen', 'ClinSigSimple',\n",
      "       'is_repeating'],\n",
      "      dtype='object')\n"
     ]
    },
    {
     "data": {
      "text/html": [
       "<div>\n",
       "<style scoped>\n",
       "    .dataframe tbody tr th:only-of-type {\n",
       "        vertical-align: middle;\n",
       "    }\n",
       "\n",
       "    .dataframe tbody tr th {\n",
       "        vertical-align: top;\n",
       "    }\n",
       "\n",
       "    .dataframe thead th {\n",
       "        text-align: right;\n",
       "    }\n",
       "</style>\n",
       "<table border=\"1\" class=\"dataframe\">\n",
       "  <thead>\n",
       "    <tr style=\"text-align: right;\">\n",
       "      <th></th>\n",
       "      <th>Name</th>\n",
       "      <th>Gene(s)</th>\n",
       "      <th>Protein change</th>\n",
       "      <th>Condition(s)</th>\n",
       "      <th>Clinical significance (Last reviewed)</th>\n",
       "      <th>Review status</th>\n",
       "      <th>Accession</th>\n",
       "      <th>GRCh37Chromosome</th>\n",
       "      <th>GRCh37Location</th>\n",
       "      <th>GRCh38Chromosome</th>\n",
       "      <th>...</th>\n",
       "      <th>protein_sequence</th>\n",
       "      <th>uniprot_id</th>\n",
       "      <th>protein_sequence_mutated</th>\n",
       "      <th>protein_seqlen</th>\n",
       "      <th>mutation_depth</th>\n",
       "      <th>filter_lt_3_aas</th>\n",
       "      <th>filter_lt_1022_seqlen</th>\n",
       "      <th>filter_lt_6000_seqlen</th>\n",
       "      <th>ClinSigSimple</th>\n",
       "      <th>is_repeating</th>\n",
       "    </tr>\n",
       "  </thead>\n",
       "  <tbody>\n",
       "    <tr>\n",
       "      <th>0</th>\n",
       "      <td>NM_080605.4(B3GALT6):c.415_423del (p.Met139_Al...</td>\n",
       "      <td>B3GALT6</td>\n",
       "      <td>NaN</td>\n",
       "      <td>Ehlers-Danlos syndrome, spondylodysplastic typ...</td>\n",
       "      <td>Pathogenic(Last reviewed: Jun 6, 2013)</td>\n",
       "      <td>no assertion criteria provided</td>\n",
       "      <td>VCV000060494</td>\n",
       "      <td>1</td>\n",
       "      <td>1168065 - 1168073</td>\n",
       "      <td>1</td>\n",
       "      <td>...</td>\n",
       "      <td>MKLLRRAWRRRAALGLGTLALCGAALLYLARCAAEPGDPRAMSGRS...</td>\n",
       "      <td>{'Q5T7M5'}</td>\n",
       "      <td>MKLLRRAWRRRAALGLGTLALCGAALLYLARCAAEPGDPRAMSGRS...</td>\n",
       "      <td>329</td>\n",
       "      <td>-3</td>\n",
       "      <td>True</td>\n",
       "      <td>True</td>\n",
       "      <td>True</td>\n",
       "      <td>Pathogenic</td>\n",
       "      <td>False</td>\n",
       "    </tr>\n",
       "    <tr>\n",
       "      <th>1</th>\n",
       "      <td>NM_002074.5(GNB1):c.1011_1013del (p.Lys337_Ile...</td>\n",
       "      <td>GNB1</td>\n",
       "      <td>NaN</td>\n",
       "      <td>Inborn genetic diseases</td>\n",
       "      <td>Pathogenic(Last reviewed: Apr 25, 2016)</td>\n",
       "      <td>criteria provided, single submitter</td>\n",
       "      <td>VCV000521025</td>\n",
       "      <td>1</td>\n",
       "      <td>1718780 - 1718782</td>\n",
       "      <td>1</td>\n",
       "      <td>...</td>\n",
       "      <td>MSELDQLRQEAEQLKNQIRDARKACADATLSQITNNIDPVGRIQMR...</td>\n",
       "      <td>{'Q1RMY8', 'A0A024R056'}</td>\n",
       "      <td>MSELDQLRQEAEQLKNQIRDARKACADATLSQITNNIDPVGRIQMR...</td>\n",
       "      <td>340</td>\n",
       "      <td>-1</td>\n",
       "      <td>True</td>\n",
       "      <td>True</td>\n",
       "      <td>True</td>\n",
       "      <td>Pathogenic</td>\n",
       "      <td>False</td>\n",
       "    </tr>\n",
       "    <tr>\n",
       "      <th>2</th>\n",
       "      <td>NM_031475.3(ESPN):c.1803GCC[5] (p.Pro605dup)</td>\n",
       "      <td>ESPN</td>\n",
       "      <td>NaN</td>\n",
       "      <td>Autosomal recessive nonsyndromic hearing loss ...</td>\n",
       "      <td>Likely benign(Last reviewed: Jul 30, 2022)</td>\n",
       "      <td>criteria provided, multiple submitters, no con...</td>\n",
       "      <td>VCV001219107</td>\n",
       "      <td>1</td>\n",
       "      <td>6509036 - 6509037</td>\n",
       "      <td>1</td>\n",
       "      <td>...</td>\n",
       "      <td>MALEQALQAARQGELDVLRSLHAAGLLGPSLRDPLDALPVHHAARA...</td>\n",
       "      <td>{'Q9Y329'}</td>\n",
       "      <td>MALEQALQAARQGELDVLRSLHAAGLLGPSLRDPLDALPVHHAARA...</td>\n",
       "      <td>854</td>\n",
       "      <td>1</td>\n",
       "      <td>True</td>\n",
       "      <td>True</td>\n",
       "      <td>True</td>\n",
       "      <td>Benign</td>\n",
       "      <td>True</td>\n",
       "    </tr>\n",
       "    <tr>\n",
       "      <th>3</th>\n",
       "      <td>NM_031475.3(ESPN):c.2539AAG[1] (p.Lys848del)</td>\n",
       "      <td>ESPN</td>\n",
       "      <td>K818del, K848del, K827del</td>\n",
       "      <td>Deafness, without vestibular involvement, auto...</td>\n",
       "      <td>Pathogenic(Last reviewed: Feb 1, 2006)</td>\n",
       "      <td>no assertion criteria provided</td>\n",
       "      <td>VCV000004423</td>\n",
       "      <td>1</td>\n",
       "      <td>6520179 - 6520181</td>\n",
       "      <td>1</td>\n",
       "      <td>...</td>\n",
       "      <td>MALEQALQAARQGELDVLRSLHAAGLLGPSLRDPLDALPVHHAARA...</td>\n",
       "      <td>{'Q9Y329'}</td>\n",
       "      <td>MALEQALQAARQGELDVLRSLHAAGLLGPSLRDPLDALPVHHAARA...</td>\n",
       "      <td>854</td>\n",
       "      <td>-1</td>\n",
       "      <td>True</td>\n",
       "      <td>True</td>\n",
       "      <td>True</td>\n",
       "      <td>Pathogenic</td>\n",
       "      <td>False</td>\n",
       "    </tr>\n",
       "    <tr>\n",
       "      <th>4</th>\n",
       "      <td>NM_007262.5(PARK7):c.471_473del (p.Pro158del)</td>\n",
       "      <td>PARK7</td>\n",
       "      <td>P158del</td>\n",
       "      <td>Autosomal recessive early-onset Parkinson dise...</td>\n",
       "      <td>Likely pathogenic(Last reviewed: Aug 1, 2022)</td>\n",
       "      <td>criteria provided, multiple submitters, no con...</td>\n",
       "      <td>VCV000987356</td>\n",
       "      <td>1</td>\n",
       "      <td>8045015 - 8045017</td>\n",
       "      <td>1</td>\n",
       "      <td>...</td>\n",
       "      <td>MASKRALVILAKGAEEMETVIPVDVMRRAGIKVTVAGLAGKDPVQC...</td>\n",
       "      <td>{'V9HWC2', 'Q7LFU2'}</td>\n",
       "      <td>MASKRALVILAKGAEEMETVIPVDVMRRAGIKVTVAGLAGKDPVQC...</td>\n",
       "      <td>189</td>\n",
       "      <td>-1</td>\n",
       "      <td>True</td>\n",
       "      <td>True</td>\n",
       "      <td>True</td>\n",
       "      <td>Pathogenic</td>\n",
       "      <td>False</td>\n",
       "    </tr>\n",
       "  </tbody>\n",
       "</table>\n",
       "<p>5 rows × 67 columns</p>\n",
       "</div>"
      ],
      "text/plain": [
       "                                                Name  Gene(s)  \\\n",
       "0  NM_080605.4(B3GALT6):c.415_423del (p.Met139_Al...  B3GALT6   \n",
       "1  NM_002074.5(GNB1):c.1011_1013del (p.Lys337_Ile...     GNB1   \n",
       "2       NM_031475.3(ESPN):c.1803GCC[5] (p.Pro605dup)     ESPN   \n",
       "3       NM_031475.3(ESPN):c.2539AAG[1] (p.Lys848del)     ESPN   \n",
       "4      NM_007262.5(PARK7):c.471_473del (p.Pro158del)    PARK7   \n",
       "\n",
       "              Protein change  \\\n",
       "0                        NaN   \n",
       "1                        NaN   \n",
       "2                        NaN   \n",
       "3  K818del, K848del, K827del   \n",
       "4                    P158del   \n",
       "\n",
       "                                        Condition(s)  \\\n",
       "0  Ehlers-Danlos syndrome, spondylodysplastic typ...   \n",
       "1                            Inborn genetic diseases   \n",
       "2  Autosomal recessive nonsyndromic hearing loss ...   \n",
       "3  Deafness, without vestibular involvement, auto...   \n",
       "4  Autosomal recessive early-onset Parkinson dise...   \n",
       "\n",
       "           Clinical significance (Last reviewed)  \\\n",
       "0         Pathogenic(Last reviewed: Jun 6, 2013)   \n",
       "1        Pathogenic(Last reviewed: Apr 25, 2016)   \n",
       "2     Likely benign(Last reviewed: Jul 30, 2022)   \n",
       "3         Pathogenic(Last reviewed: Feb 1, 2006)   \n",
       "4  Likely pathogenic(Last reviewed: Aug 1, 2022)   \n",
       "\n",
       "                                       Review status     Accession  \\\n",
       "0                     no assertion criteria provided  VCV000060494   \n",
       "1                criteria provided, single submitter  VCV000521025   \n",
       "2  criteria provided, multiple submitters, no con...  VCV001219107   \n",
       "3                     no assertion criteria provided  VCV000004423   \n",
       "4  criteria provided, multiple submitters, no con...  VCV000987356   \n",
       "\n",
       "  GRCh37Chromosome     GRCh37Location GRCh38Chromosome  ...  \\\n",
       "0                1  1168065 - 1168073                1  ...   \n",
       "1                1  1718780 - 1718782                1  ...   \n",
       "2                1  6509036 - 6509037                1  ...   \n",
       "3                1  6520179 - 6520181                1  ...   \n",
       "4                1  8045015 - 8045017                1  ...   \n",
       "\n",
       "                                    protein_sequence  \\\n",
       "0  MKLLRRAWRRRAALGLGTLALCGAALLYLARCAAEPGDPRAMSGRS...   \n",
       "1  MSELDQLRQEAEQLKNQIRDARKACADATLSQITNNIDPVGRIQMR...   \n",
       "2  MALEQALQAARQGELDVLRSLHAAGLLGPSLRDPLDALPVHHAARA...   \n",
       "3  MALEQALQAARQGELDVLRSLHAAGLLGPSLRDPLDALPVHHAARA...   \n",
       "4  MASKRALVILAKGAEEMETVIPVDVMRRAGIKVTVAGLAGKDPVQC...   \n",
       "\n",
       "                 uniprot_id  \\\n",
       "0                {'Q5T7M5'}   \n",
       "1  {'Q1RMY8', 'A0A024R056'}   \n",
       "2                {'Q9Y329'}   \n",
       "3                {'Q9Y329'}   \n",
       "4      {'V9HWC2', 'Q7LFU2'}   \n",
       "\n",
       "                            protein_sequence_mutated protein_seqlen  \\\n",
       "0  MKLLRRAWRRRAALGLGTLALCGAALLYLARCAAEPGDPRAMSGRS...            329   \n",
       "1  MSELDQLRQEAEQLKNQIRDARKACADATLSQITNNIDPVGRIQMR...            340   \n",
       "2  MALEQALQAARQGELDVLRSLHAAGLLGPSLRDPLDALPVHHAARA...            854   \n",
       "3  MALEQALQAARQGELDVLRSLHAAGLLGPSLRDPLDALPVHHAARA...            854   \n",
       "4  MASKRALVILAKGAEEMETVIPVDVMRRAGIKVTVAGLAGKDPVQC...            189   \n",
       "\n",
       "  mutation_depth  filter_lt_3_aas  filter_lt_1022_seqlen  \\\n",
       "0             -3             True                   True   \n",
       "1             -1             True                   True   \n",
       "2              1             True                   True   \n",
       "3             -1             True                   True   \n",
       "4             -1             True                   True   \n",
       "\n",
       "  filter_lt_6000_seqlen ClinSigSimple  is_repeating  \n",
       "0                  True    Pathogenic         False  \n",
       "1                  True    Pathogenic         False  \n",
       "2                  True        Benign          True  \n",
       "3                  True    Pathogenic         False  \n",
       "4                  True    Pathogenic         False  \n",
       "\n",
       "[5 rows x 67 columns]"
      ]
     },
     "execution_count": 21,
     "metadata": {},
     "output_type": "execute_result"
    }
   ],
   "source": [
    "df = pd.read_csv(clinvar_file)\n",
    "print(df.columns)\n",
    "df.head()"
   ]
  },
  {
   "cell_type": "code",
   "execution_count": 22,
   "metadata": {},
   "outputs": [
    {
     "data": {
      "text/html": [
       "<div>\n",
       "<style scoped>\n",
       "    .dataframe tbody tr th:only-of-type {\n",
       "        vertical-align: middle;\n",
       "    }\n",
       "\n",
       "    .dataframe tbody tr th {\n",
       "        vertical-align: top;\n",
       "    }\n",
       "\n",
       "    .dataframe thead th {\n",
       "        text-align: right;\n",
       "    }\n",
       "</style>\n",
       "<table border=\"1\" class=\"dataframe\">\n",
       "  <thead>\n",
       "    <tr style=\"text-align: right;\">\n",
       "      <th></th>\n",
       "      <th>protein_sequence</th>\n",
       "      <th>protein_sequence_mutated</th>\n",
       "    </tr>\n",
       "  </thead>\n",
       "  <tbody>\n",
       "    <tr>\n",
       "      <th>0</th>\n",
       "      <td>MKLLRRAWRRRAALGLGTLALCGAALLYLARCAAEPGDPRAMSGRS...</td>\n",
       "      <td>MKLLRRAWRRRAALGLGTLALCGAALLYLARCAAEPGDPRAMSGRS...</td>\n",
       "    </tr>\n",
       "    <tr>\n",
       "      <th>1</th>\n",
       "      <td>MSELDQLRQEAEQLKNQIRDARKACADATLSQITNNIDPVGRIQMR...</td>\n",
       "      <td>MSELDQLRQEAEQLKNQIRDARKACADATLSQITNNIDPVGRIQMR...</td>\n",
       "    </tr>\n",
       "    <tr>\n",
       "      <th>2</th>\n",
       "      <td>MALEQALQAARQGELDVLRSLHAAGLLGPSLRDPLDALPVHHAARA...</td>\n",
       "      <td>MALEQALQAARQGELDVLRSLHAAGLLGPSLRDPLDALPVHHAARA...</td>\n",
       "    </tr>\n",
       "    <tr>\n",
       "      <th>3</th>\n",
       "      <td>MALEQALQAARQGELDVLRSLHAAGLLGPSLRDPLDALPVHHAARA...</td>\n",
       "      <td>MALEQALQAARQGELDVLRSLHAAGLLGPSLRDPLDALPVHHAARA...</td>\n",
       "    </tr>\n",
       "    <tr>\n",
       "      <th>4</th>\n",
       "      <td>MASKRALVILAKGAEEMETVIPVDVMRRAGIKVTVAGLAGKDPVQC...</td>\n",
       "      <td>MASKRALVILAKGAEEMETVIPVDVMRRAGIKVTVAGLAGKDPVQC...</td>\n",
       "    </tr>\n",
       "    <tr>\n",
       "      <th>...</th>\n",
       "      <td>...</td>\n",
       "      <td>...</td>\n",
       "    </tr>\n",
       "    <tr>\n",
       "      <th>2085</th>\n",
       "      <td>MADAEVIILPKKHKKKKERKSLPEEDVAEIQHAEEFLIKPESKVAK...</td>\n",
       "      <td>MADAEVIILPKKHKKKKERKSLPEEDVAEIQHAEEFLIKPESKVAK...</td>\n",
       "    </tr>\n",
       "    <tr>\n",
       "      <th>2086</th>\n",
       "      <td>MADAEVIILPKKHKKKKERKSLPEEDVAEIQHAEEFLIKPESKVAK...</td>\n",
       "      <td>MADAEVIILPKKHKKKKERKSLPEEDVAEIQHAEEFLIKPESKVAK...</td>\n",
       "    </tr>\n",
       "    <tr>\n",
       "      <th>2087</th>\n",
       "      <td>MQIELSTCFFLCLLRFCFSATRRYYLGAVELSWDYMQSDLGELPVD...</td>\n",
       "      <td>MQIELSTCFFLCLLRFCFSATRRYYLGAVELSWDYMQSDLGELPVD...</td>\n",
       "    </tr>\n",
       "    <tr>\n",
       "      <th>2088</th>\n",
       "      <td>MQIELSTCFFLCLLRFCFSATRRYYLGAVELSWDYMQSDLGELPVD...</td>\n",
       "      <td>MQIELSTCFFLCLLRFCFSATRRYYLGAVELSWDYMQSDLGELPVD...</td>\n",
       "    </tr>\n",
       "    <tr>\n",
       "      <th>2089</th>\n",
       "      <td>MQIELSTCFFLCLLRFCFSATRRYYLGAVELSWDYMQSDLGELPVD...</td>\n",
       "      <td>MQIELSTCFFLCLLRFCFSATRRYYLGAVELSWDYMQSDLGELPVD...</td>\n",
       "    </tr>\n",
       "  </tbody>\n",
       "</table>\n",
       "<p>2090 rows × 2 columns</p>\n",
       "</div>"
      ],
      "text/plain": [
       "                                       protein_sequence  \\\n",
       "0     MKLLRRAWRRRAALGLGTLALCGAALLYLARCAAEPGDPRAMSGRS...   \n",
       "1     MSELDQLRQEAEQLKNQIRDARKACADATLSQITNNIDPVGRIQMR...   \n",
       "2     MALEQALQAARQGELDVLRSLHAAGLLGPSLRDPLDALPVHHAARA...   \n",
       "3     MALEQALQAARQGELDVLRSLHAAGLLGPSLRDPLDALPVHHAARA...   \n",
       "4     MASKRALVILAKGAEEMETVIPVDVMRRAGIKVTVAGLAGKDPVQC...   \n",
       "...                                                 ...   \n",
       "2085  MADAEVIILPKKHKKKKERKSLPEEDVAEIQHAEEFLIKPESKVAK...   \n",
       "2086  MADAEVIILPKKHKKKKERKSLPEEDVAEIQHAEEFLIKPESKVAK...   \n",
       "2087  MQIELSTCFFLCLLRFCFSATRRYYLGAVELSWDYMQSDLGELPVD...   \n",
       "2088  MQIELSTCFFLCLLRFCFSATRRYYLGAVELSWDYMQSDLGELPVD...   \n",
       "2089  MQIELSTCFFLCLLRFCFSATRRYYLGAVELSWDYMQSDLGELPVD...   \n",
       "\n",
       "                               protein_sequence_mutated  \n",
       "0     MKLLRRAWRRRAALGLGTLALCGAALLYLARCAAEPGDPRAMSGRS...  \n",
       "1     MSELDQLRQEAEQLKNQIRDARKACADATLSQITNNIDPVGRIQMR...  \n",
       "2     MALEQALQAARQGELDVLRSLHAAGLLGPSLRDPLDALPVHHAARA...  \n",
       "3     MALEQALQAARQGELDVLRSLHAAGLLGPSLRDPLDALPVHHAARA...  \n",
       "4     MASKRALVILAKGAEEMETVIPVDVMRRAGIKVTVAGLAGKDPVQC...  \n",
       "...                                                 ...  \n",
       "2085  MADAEVIILPKKHKKKKERKSLPEEDVAEIQHAEEFLIKPESKVAK...  \n",
       "2086  MADAEVIILPKKHKKKKERKSLPEEDVAEIQHAEEFLIKPESKVAK...  \n",
       "2087  MQIELSTCFFLCLLRFCFSATRRYYLGAVELSWDYMQSDLGELPVD...  \n",
       "2088  MQIELSTCFFLCLLRFCFSATRRYYLGAVELSWDYMQSDLGELPVD...  \n",
       "2089  MQIELSTCFFLCLLRFCFSATRRYYLGAVELSWDYMQSDLGELPVD...  \n",
       "\n",
       "[2090 rows x 2 columns]"
      ]
     },
     "execution_count": 22,
     "metadata": {},
     "output_type": "execute_result"
    }
   ],
   "source": [
    "df[[\"protein_sequence\", \"protein_sequence_mutated\"]]"
   ]
  },
  {
   "cell_type": "code",
   "execution_count": 23,
   "metadata": {},
   "outputs": [
    {
     "name": "stdout",
     "output_type": "stream",
     "text": [
      "CPU times: user 14.8 ms, sys: 225 µs, total: 15 ms\n",
      "Wall time: 14.4 ms\n"
     ]
    }
   ],
   "source": [
    "%%time\n",
    "# Add a column of scores\n",
    "def calc_distance(row_tuple):\n",
    "    return distance(row_tuple.protein_sequence, row_tuple.protein_sequence_mutated)\n",
    "\n",
    "df[\"edit_distance_levenshtein\"] = list(map(calc_distance, df[[\"protein_sequence\", \"protein_sequence_mutated\"]].itertuples()))"
   ]
  },
  {
   "cell_type": "code",
   "execution_count": 24,
   "metadata": {},
   "outputs": [
    {
     "data": {
      "text/html": [
       "<div>\n",
       "<style scoped>\n",
       "    .dataframe tbody tr th:only-of-type {\n",
       "        vertical-align: middle;\n",
       "    }\n",
       "\n",
       "    .dataframe tbody tr th {\n",
       "        vertical-align: top;\n",
       "    }\n",
       "\n",
       "    .dataframe thead th {\n",
       "        text-align: right;\n",
       "    }\n",
       "</style>\n",
       "<table border=\"1\" class=\"dataframe\">\n",
       "  <thead>\n",
       "    <tr style=\"text-align: right;\">\n",
       "      <th></th>\n",
       "      <th>Name</th>\n",
       "      <th>Gene(s)</th>\n",
       "      <th>Protein change</th>\n",
       "      <th>Condition(s)</th>\n",
       "      <th>Clinical significance (Last reviewed)</th>\n",
       "      <th>Review status</th>\n",
       "      <th>Accession</th>\n",
       "      <th>GRCh37Chromosome</th>\n",
       "      <th>GRCh37Location</th>\n",
       "      <th>GRCh38Chromosome</th>\n",
       "      <th>...</th>\n",
       "      <th>uniprot_id</th>\n",
       "      <th>protein_sequence_mutated</th>\n",
       "      <th>protein_seqlen</th>\n",
       "      <th>mutation_depth</th>\n",
       "      <th>filter_lt_3_aas</th>\n",
       "      <th>filter_lt_1022_seqlen</th>\n",
       "      <th>filter_lt_6000_seqlen</th>\n",
       "      <th>ClinSigSimple</th>\n",
       "      <th>is_repeating</th>\n",
       "      <th>edit_distance_levenshtein</th>\n",
       "    </tr>\n",
       "  </thead>\n",
       "  <tbody>\n",
       "    <tr>\n",
       "      <th>0</th>\n",
       "      <td>NM_080605.4(B3GALT6):c.415_423del (p.Met139_Al...</td>\n",
       "      <td>B3GALT6</td>\n",
       "      <td>NaN</td>\n",
       "      <td>Ehlers-Danlos syndrome, spondylodysplastic typ...</td>\n",
       "      <td>Pathogenic(Last reviewed: Jun 6, 2013)</td>\n",
       "      <td>no assertion criteria provided</td>\n",
       "      <td>VCV000060494</td>\n",
       "      <td>1</td>\n",
       "      <td>1168065 - 1168073</td>\n",
       "      <td>1</td>\n",
       "      <td>...</td>\n",
       "      <td>{'Q5T7M5'}</td>\n",
       "      <td>MKLLRRAWRRRAALGLGTLALCGAALLYLARCAAEPGDPRAMSGRS...</td>\n",
       "      <td>329</td>\n",
       "      <td>-3</td>\n",
       "      <td>True</td>\n",
       "      <td>True</td>\n",
       "      <td>True</td>\n",
       "      <td>Pathogenic</td>\n",
       "      <td>False</td>\n",
       "      <td>3</td>\n",
       "    </tr>\n",
       "    <tr>\n",
       "      <th>1</th>\n",
       "      <td>NM_002074.5(GNB1):c.1011_1013del (p.Lys337_Ile...</td>\n",
       "      <td>GNB1</td>\n",
       "      <td>NaN</td>\n",
       "      <td>Inborn genetic diseases</td>\n",
       "      <td>Pathogenic(Last reviewed: Apr 25, 2016)</td>\n",
       "      <td>criteria provided, single submitter</td>\n",
       "      <td>VCV000521025</td>\n",
       "      <td>1</td>\n",
       "      <td>1718780 - 1718782</td>\n",
       "      <td>1</td>\n",
       "      <td>...</td>\n",
       "      <td>{'Q1RMY8', 'A0A024R056'}</td>\n",
       "      <td>MSELDQLRQEAEQLKNQIRDARKACADATLSQITNNIDPVGRIQMR...</td>\n",
       "      <td>340</td>\n",
       "      <td>-1</td>\n",
       "      <td>True</td>\n",
       "      <td>True</td>\n",
       "      <td>True</td>\n",
       "      <td>Pathogenic</td>\n",
       "      <td>False</td>\n",
       "      <td>2</td>\n",
       "    </tr>\n",
       "    <tr>\n",
       "      <th>2</th>\n",
       "      <td>NM_031475.3(ESPN):c.1803GCC[5] (p.Pro605dup)</td>\n",
       "      <td>ESPN</td>\n",
       "      <td>NaN</td>\n",
       "      <td>Autosomal recessive nonsyndromic hearing loss ...</td>\n",
       "      <td>Likely benign(Last reviewed: Jul 30, 2022)</td>\n",
       "      <td>criteria provided, multiple submitters, no con...</td>\n",
       "      <td>VCV001219107</td>\n",
       "      <td>1</td>\n",
       "      <td>6509036 - 6509037</td>\n",
       "      <td>1</td>\n",
       "      <td>...</td>\n",
       "      <td>{'Q9Y329'}</td>\n",
       "      <td>MALEQALQAARQGELDVLRSLHAAGLLGPSLRDPLDALPVHHAARA...</td>\n",
       "      <td>854</td>\n",
       "      <td>1</td>\n",
       "      <td>True</td>\n",
       "      <td>True</td>\n",
       "      <td>True</td>\n",
       "      <td>Benign</td>\n",
       "      <td>True</td>\n",
       "      <td>1</td>\n",
       "    </tr>\n",
       "    <tr>\n",
       "      <th>3</th>\n",
       "      <td>NM_031475.3(ESPN):c.2539AAG[1] (p.Lys848del)</td>\n",
       "      <td>ESPN</td>\n",
       "      <td>K818del, K848del, K827del</td>\n",
       "      <td>Deafness, without vestibular involvement, auto...</td>\n",
       "      <td>Pathogenic(Last reviewed: Feb 1, 2006)</td>\n",
       "      <td>no assertion criteria provided</td>\n",
       "      <td>VCV000004423</td>\n",
       "      <td>1</td>\n",
       "      <td>6520179 - 6520181</td>\n",
       "      <td>1</td>\n",
       "      <td>...</td>\n",
       "      <td>{'Q9Y329'}</td>\n",
       "      <td>MALEQALQAARQGELDVLRSLHAAGLLGPSLRDPLDALPVHHAARA...</td>\n",
       "      <td>854</td>\n",
       "      <td>-1</td>\n",
       "      <td>True</td>\n",
       "      <td>True</td>\n",
       "      <td>True</td>\n",
       "      <td>Pathogenic</td>\n",
       "      <td>False</td>\n",
       "      <td>1</td>\n",
       "    </tr>\n",
       "    <tr>\n",
       "      <th>4</th>\n",
       "      <td>NM_007262.5(PARK7):c.471_473del (p.Pro158del)</td>\n",
       "      <td>PARK7</td>\n",
       "      <td>P158del</td>\n",
       "      <td>Autosomal recessive early-onset Parkinson dise...</td>\n",
       "      <td>Likely pathogenic(Last reviewed: Aug 1, 2022)</td>\n",
       "      <td>criteria provided, multiple submitters, no con...</td>\n",
       "      <td>VCV000987356</td>\n",
       "      <td>1</td>\n",
       "      <td>8045015 - 8045017</td>\n",
       "      <td>1</td>\n",
       "      <td>...</td>\n",
       "      <td>{'V9HWC2', 'Q7LFU2'}</td>\n",
       "      <td>MASKRALVILAKGAEEMETVIPVDVMRRAGIKVTVAGLAGKDPVQC...</td>\n",
       "      <td>189</td>\n",
       "      <td>-1</td>\n",
       "      <td>True</td>\n",
       "      <td>True</td>\n",
       "      <td>True</td>\n",
       "      <td>Pathogenic</td>\n",
       "      <td>False</td>\n",
       "      <td>1</td>\n",
       "    </tr>\n",
       "    <tr>\n",
       "      <th>...</th>\n",
       "      <td>...</td>\n",
       "      <td>...</td>\n",
       "      <td>...</td>\n",
       "      <td>...</td>\n",
       "      <td>...</td>\n",
       "      <td>...</td>\n",
       "      <td>...</td>\n",
       "      <td>...</td>\n",
       "      <td>...</td>\n",
       "      <td>...</td>\n",
       "      <td>...</td>\n",
       "      <td>...</td>\n",
       "      <td>...</td>\n",
       "      <td>...</td>\n",
       "      <td>...</td>\n",
       "      <td>...</td>\n",
       "      <td>...</td>\n",
       "      <td>...</td>\n",
       "      <td>...</td>\n",
       "      <td>...</td>\n",
       "      <td>...</td>\n",
       "    </tr>\n",
       "    <tr>\n",
       "      <th>2085</th>\n",
       "      <td>NM_001363.5(DKC1):c.1494GAA[5] (p.Lys504_Lys50...</td>\n",
       "      <td>DKC1</td>\n",
       "      <td>NaN</td>\n",
       "      <td>Dyskeratosis congenita</td>\n",
       "      <td>Benign(Last reviewed: Nov 13, 2020)</td>\n",
       "      <td>criteria provided, single submitter</td>\n",
       "      <td>VCV000800273</td>\n",
       "      <td>X</td>\n",
       "      <td>154005089 - 154005094</td>\n",
       "      <td>X</td>\n",
       "      <td>...</td>\n",
       "      <td>{'Q9Y505'}</td>\n",
       "      <td>MADAEVIILPKKHKKKKERKSLPEEDVAEIQHAEEFLIKPESKVAK...</td>\n",
       "      <td>514</td>\n",
       "      <td>-2</td>\n",
       "      <td>True</td>\n",
       "      <td>True</td>\n",
       "      <td>True</td>\n",
       "      <td>Benign</td>\n",
       "      <td>True</td>\n",
       "      <td>2</td>\n",
       "    </tr>\n",
       "    <tr>\n",
       "      <th>2086</th>\n",
       "      <td>NM_001363.5(DKC1):c.1512_1513insGAA (p.Lys504_...</td>\n",
       "      <td>DKC1</td>\n",
       "      <td>NaN</td>\n",
       "      <td>not provided</td>\n",
       "      <td>Benign(Last reviewed: Mar 3, 2015)</td>\n",
       "      <td>criteria provided, single submitter</td>\n",
       "      <td>VCV001244861</td>\n",
       "      <td>X</td>\n",
       "      <td>154005109 - 154005110</td>\n",
       "      <td>X</td>\n",
       "      <td>...</td>\n",
       "      <td>{'Q9Y505'}</td>\n",
       "      <td>MADAEVIILPKKHKKKKERKSLPEEDVAEIQHAEEFLIKPESKVAK...</td>\n",
       "      <td>514</td>\n",
       "      <td>1</td>\n",
       "      <td>True</td>\n",
       "      <td>True</td>\n",
       "      <td>True</td>\n",
       "      <td>Benign</td>\n",
       "      <td>True</td>\n",
       "      <td>1</td>\n",
       "    </tr>\n",
       "    <tr>\n",
       "      <th>2087</th>\n",
       "      <td>NM_000132.4(F8):c.6670_6672del (p.Pro2224del)</td>\n",
       "      <td>F8</td>\n",
       "      <td>P2224del, P89del</td>\n",
       "      <td>Hereditary factor VIII deficiency disease</td>\n",
       "      <td>Pathogenic(Last reviewed: Dec 1, 1993)</td>\n",
       "      <td>no assertion criteria provided</td>\n",
       "      <td>VCV000010323</td>\n",
       "      <td>X</td>\n",
       "      <td>154090044 - 154090046</td>\n",
       "      <td>X</td>\n",
       "      <td>...</td>\n",
       "      <td>{'Q5HY69'}</td>\n",
       "      <td>MQIELSTCFFLCLLRFCFSATRRYYLGAVELSWDYMQSDLGELPVD...</td>\n",
       "      <td>2351</td>\n",
       "      <td>-1</td>\n",
       "      <td>True</td>\n",
       "      <td>False</td>\n",
       "      <td>True</td>\n",
       "      <td>Pathogenic</td>\n",
       "      <td>False</td>\n",
       "      <td>1</td>\n",
       "    </tr>\n",
       "    <tr>\n",
       "      <th>2088</th>\n",
       "      <td>NM_000132.4(F8):c.2009TCT[2] (p.Phe672del)</td>\n",
       "      <td>F8</td>\n",
       "      <td>F672del</td>\n",
       "      <td>Hereditary factor VIII deficiency disease</td>\n",
       "      <td>Pathogenic(Last reviewed: Feb 1, 1993)</td>\n",
       "      <td>no assertion criteria provided</td>\n",
       "      <td>VCV000010243</td>\n",
       "      <td>X</td>\n",
       "      <td>154176069 - 154176071</td>\n",
       "      <td>X</td>\n",
       "      <td>...</td>\n",
       "      <td>{'Q5HY69'}</td>\n",
       "      <td>MQIELSTCFFLCLLRFCFSATRRYYLGAVELSWDYMQSDLGELPVD...</td>\n",
       "      <td>2351</td>\n",
       "      <td>-1</td>\n",
       "      <td>True</td>\n",
       "      <td>False</td>\n",
       "      <td>True</td>\n",
       "      <td>Pathogenic</td>\n",
       "      <td>False</td>\n",
       "      <td>1</td>\n",
       "    </tr>\n",
       "    <tr>\n",
       "      <th>2089</th>\n",
       "      <td>NM_000132.4(F8):c.1467_1472dup (p.Arg490_Pro49...</td>\n",
       "      <td>F8</td>\n",
       "      <td>NaN</td>\n",
       "      <td>Hereditary factor VIII deficiency disease</td>\n",
       "      <td>Pathogenic(Last reviewed: Jun 1, 2019)</td>\n",
       "      <td>no assertion criteria provided</td>\n",
       "      <td>VCV000973799</td>\n",
       "      <td>X</td>\n",
       "      <td>154189414 - 154189415</td>\n",
       "      <td>X</td>\n",
       "      <td>...</td>\n",
       "      <td>{'Q5HY69'}</td>\n",
       "      <td>MQIELSTCFFLCLLRFCFSATRRYYLGAVELSWDYMQSDLGELPVD...</td>\n",
       "      <td>2351</td>\n",
       "      <td>2</td>\n",
       "      <td>True</td>\n",
       "      <td>False</td>\n",
       "      <td>True</td>\n",
       "      <td>Pathogenic</td>\n",
       "      <td>False</td>\n",
       "      <td>2</td>\n",
       "    </tr>\n",
       "  </tbody>\n",
       "</table>\n",
       "<p>2090 rows × 68 columns</p>\n",
       "</div>"
      ],
      "text/plain": [
       "                                                   Name  Gene(s)  \\\n",
       "0     NM_080605.4(B3GALT6):c.415_423del (p.Met139_Al...  B3GALT6   \n",
       "1     NM_002074.5(GNB1):c.1011_1013del (p.Lys337_Ile...     GNB1   \n",
       "2          NM_031475.3(ESPN):c.1803GCC[5] (p.Pro605dup)     ESPN   \n",
       "3          NM_031475.3(ESPN):c.2539AAG[1] (p.Lys848del)     ESPN   \n",
       "4         NM_007262.5(PARK7):c.471_473del (p.Pro158del)    PARK7   \n",
       "...                                                 ...      ...   \n",
       "2085  NM_001363.5(DKC1):c.1494GAA[5] (p.Lys504_Lys50...     DKC1   \n",
       "2086  NM_001363.5(DKC1):c.1512_1513insGAA (p.Lys504_...     DKC1   \n",
       "2087      NM_000132.4(F8):c.6670_6672del (p.Pro2224del)       F8   \n",
       "2088         NM_000132.4(F8):c.2009TCT[2] (p.Phe672del)       F8   \n",
       "2089  NM_000132.4(F8):c.1467_1472dup (p.Arg490_Pro49...       F8   \n",
       "\n",
       "                 Protein change  \\\n",
       "0                           NaN   \n",
       "1                           NaN   \n",
       "2                           NaN   \n",
       "3     K818del, K848del, K827del   \n",
       "4                       P158del   \n",
       "...                         ...   \n",
       "2085                        NaN   \n",
       "2086                        NaN   \n",
       "2087           P2224del, P89del   \n",
       "2088                    F672del   \n",
       "2089                        NaN   \n",
       "\n",
       "                                           Condition(s)  \\\n",
       "0     Ehlers-Danlos syndrome, spondylodysplastic typ...   \n",
       "1                               Inborn genetic diseases   \n",
       "2     Autosomal recessive nonsyndromic hearing loss ...   \n",
       "3     Deafness, without vestibular involvement, auto...   \n",
       "4     Autosomal recessive early-onset Parkinson dise...   \n",
       "...                                                 ...   \n",
       "2085                             Dyskeratosis congenita   \n",
       "2086                                       not provided   \n",
       "2087          Hereditary factor VIII deficiency disease   \n",
       "2088          Hereditary factor VIII deficiency disease   \n",
       "2089          Hereditary factor VIII deficiency disease   \n",
       "\n",
       "              Clinical significance (Last reviewed)  \\\n",
       "0            Pathogenic(Last reviewed: Jun 6, 2013)   \n",
       "1           Pathogenic(Last reviewed: Apr 25, 2016)   \n",
       "2        Likely benign(Last reviewed: Jul 30, 2022)   \n",
       "3            Pathogenic(Last reviewed: Feb 1, 2006)   \n",
       "4     Likely pathogenic(Last reviewed: Aug 1, 2022)   \n",
       "...                                             ...   \n",
       "2085            Benign(Last reviewed: Nov 13, 2020)   \n",
       "2086             Benign(Last reviewed: Mar 3, 2015)   \n",
       "2087         Pathogenic(Last reviewed: Dec 1, 1993)   \n",
       "2088         Pathogenic(Last reviewed: Feb 1, 1993)   \n",
       "2089         Pathogenic(Last reviewed: Jun 1, 2019)   \n",
       "\n",
       "                                          Review status     Accession  \\\n",
       "0                        no assertion criteria provided  VCV000060494   \n",
       "1                   criteria provided, single submitter  VCV000521025   \n",
       "2     criteria provided, multiple submitters, no con...  VCV001219107   \n",
       "3                        no assertion criteria provided  VCV000004423   \n",
       "4     criteria provided, multiple submitters, no con...  VCV000987356   \n",
       "...                                                 ...           ...   \n",
       "2085                criteria provided, single submitter  VCV000800273   \n",
       "2086                criteria provided, single submitter  VCV001244861   \n",
       "2087                     no assertion criteria provided  VCV000010323   \n",
       "2088                     no assertion criteria provided  VCV000010243   \n",
       "2089                     no assertion criteria provided  VCV000973799   \n",
       "\n",
       "     GRCh37Chromosome         GRCh37Location GRCh38Chromosome  ...  \\\n",
       "0                   1      1168065 - 1168073                1  ...   \n",
       "1                   1      1718780 - 1718782                1  ...   \n",
       "2                   1      6509036 - 6509037                1  ...   \n",
       "3                   1      6520179 - 6520181                1  ...   \n",
       "4                   1      8045015 - 8045017                1  ...   \n",
       "...               ...                    ...              ...  ...   \n",
       "2085                X  154005089 - 154005094                X  ...   \n",
       "2086                X  154005109 - 154005110                X  ...   \n",
       "2087                X  154090044 - 154090046                X  ...   \n",
       "2088                X  154176069 - 154176071                X  ...   \n",
       "2089                X  154189414 - 154189415                X  ...   \n",
       "\n",
       "                    uniprot_id  \\\n",
       "0                   {'Q5T7M5'}   \n",
       "1     {'Q1RMY8', 'A0A024R056'}   \n",
       "2                   {'Q9Y329'}   \n",
       "3                   {'Q9Y329'}   \n",
       "4         {'V9HWC2', 'Q7LFU2'}   \n",
       "...                        ...   \n",
       "2085                {'Q9Y505'}   \n",
       "2086                {'Q9Y505'}   \n",
       "2087                {'Q5HY69'}   \n",
       "2088                {'Q5HY69'}   \n",
       "2089                {'Q5HY69'}   \n",
       "\n",
       "                               protein_sequence_mutated  protein_seqlen  \\\n",
       "0     MKLLRRAWRRRAALGLGTLALCGAALLYLARCAAEPGDPRAMSGRS...             329   \n",
       "1     MSELDQLRQEAEQLKNQIRDARKACADATLSQITNNIDPVGRIQMR...             340   \n",
       "2     MALEQALQAARQGELDVLRSLHAAGLLGPSLRDPLDALPVHHAARA...             854   \n",
       "3     MALEQALQAARQGELDVLRSLHAAGLLGPSLRDPLDALPVHHAARA...             854   \n",
       "4     MASKRALVILAKGAEEMETVIPVDVMRRAGIKVTVAGLAGKDPVQC...             189   \n",
       "...                                                 ...             ...   \n",
       "2085  MADAEVIILPKKHKKKKERKSLPEEDVAEIQHAEEFLIKPESKVAK...             514   \n",
       "2086  MADAEVIILPKKHKKKKERKSLPEEDVAEIQHAEEFLIKPESKVAK...             514   \n",
       "2087  MQIELSTCFFLCLLRFCFSATRRYYLGAVELSWDYMQSDLGELPVD...            2351   \n",
       "2088  MQIELSTCFFLCLLRFCFSATRRYYLGAVELSWDYMQSDLGELPVD...            2351   \n",
       "2089  MQIELSTCFFLCLLRFCFSATRRYYLGAVELSWDYMQSDLGELPVD...            2351   \n",
       "\n",
       "     mutation_depth filter_lt_3_aas  filter_lt_1022_seqlen  \\\n",
       "0                -3            True                   True   \n",
       "1                -1            True                   True   \n",
       "2                 1            True                   True   \n",
       "3                -1            True                   True   \n",
       "4                -1            True                   True   \n",
       "...             ...             ...                    ...   \n",
       "2085             -2            True                   True   \n",
       "2086              1            True                   True   \n",
       "2087             -1            True                  False   \n",
       "2088             -1            True                  False   \n",
       "2089              2            True                  False   \n",
       "\n",
       "      filter_lt_6000_seqlen ClinSigSimple is_repeating  \\\n",
       "0                      True    Pathogenic        False   \n",
       "1                      True    Pathogenic        False   \n",
       "2                      True        Benign         True   \n",
       "3                      True    Pathogenic        False   \n",
       "4                      True    Pathogenic        False   \n",
       "...                     ...           ...          ...   \n",
       "2085                   True        Benign         True   \n",
       "2086                   True        Benign         True   \n",
       "2087                   True    Pathogenic        False   \n",
       "2088                   True    Pathogenic        False   \n",
       "2089                   True    Pathogenic        False   \n",
       "\n",
       "      edit_distance_levenshtein  \n",
       "0                             3  \n",
       "1                             2  \n",
       "2                             1  \n",
       "3                             1  \n",
       "4                             1  \n",
       "...                         ...  \n",
       "2085                          2  \n",
       "2086                          1  \n",
       "2087                          1  \n",
       "2088                          1  \n",
       "2089                          2  \n",
       "\n",
       "[2090 rows x 68 columns]"
      ]
     },
     "execution_count": 24,
     "metadata": {},
     "output_type": "execute_result"
    }
   ],
   "source": [
    "df"
   ]
  },
  {
   "cell_type": "code",
   "execution_count": 25,
   "metadata": {},
   "outputs": [],
   "source": [
    "df[\"label_pathogenic\"] = (df[\"ClinSigSimple\"] == \"Pathogenic\")"
   ]
  },
  {
   "attachments": {},
   "cell_type": "markdown",
   "metadata": {},
   "source": [
    "## Explore labels"
   ]
  },
  {
   "cell_type": "code",
   "execution_count": 26,
   "metadata": {},
   "outputs": [
    {
     "data": {
      "text/plain": [
       "0.8421052631578947"
      ]
     },
     "execution_count": 26,
     "metadata": {},
     "output_type": "execute_result"
    }
   ],
   "source": [
    "prop_pathogenic = df[\"label_pathogenic\"].mean()\n",
    "prop_pathogenic"
   ]
  },
  {
   "cell_type": "code",
   "execution_count": 27,
   "metadata": {},
   "outputs": [
    {
     "data": {
      "text/plain": [
       "<AxesSubplot: xlabel='label_pathogenic', ylabel='edit_distance_levenshtein'>"
      ]
     },
     "execution_count": 27,
     "metadata": {},
     "output_type": "execute_result"
    },
    {
     "data": {
      "image/png": "[encoded data removed]",
      "text/plain": [
       "<Figure size 640x480 with 1 Axes>"
      ]
     },
     "metadata": {
      "image/png": {
       "height": 433,
       "width": 554
      }
     },
     "output_type": "display_data"
    }
   ],
   "source": [
    "sns.scatterplot(x=\"label_pathogenic\", y=\"edit_distance_levenshtein\", data=df)"
   ]
  },
  {
   "cell_type": "code",
   "execution_count": 28,
   "metadata": {},
   "outputs": [
    {
     "data": {
      "text/plain": [
       "SpearmanrResult(correlation=-0.044107677886685376, pvalue=0.04377652341198726)"
      ]
     },
     "execution_count": 28,
     "metadata": {},
     "output_type": "execute_result"
    }
   ],
   "source": [
    "spearmanr(df[\"edit_distance_levenshtein\"], df[\"label_pathogenic\"])"
   ]
  },
  {
   "cell_type": "code",
   "execution_count": 29,
   "metadata": {},
   "outputs": [
    {
     "data": {
      "text/plain": [
       "0        True\n",
       "1        True\n",
       "2       False\n",
       "3        True\n",
       "4        True\n",
       "        ...  \n",
       "2085    False\n",
       "2086    False\n",
       "2087     True\n",
       "2088     True\n",
       "2089     True\n",
       "Name: label_pathogenic, Length: 2090, dtype: bool"
      ]
     },
     "execution_count": 29,
     "metadata": {},
     "output_type": "execute_result"
    }
   ],
   "source": [
    "df[\"label_pathogenic\"]"
   ]
  },
  {
   "cell_type": "code",
   "execution_count": 30,
   "metadata": {},
   "outputs": [
    {
     "data": {
      "text/plain": [
       "0    3\n",
       "1    2\n",
       "2    1\n",
       "3    1\n",
       "4    1\n",
       "5    1\n",
       "6    1\n",
       "7    1\n",
       "8    3\n",
       "9    1\n",
       "Name: edit_distance_levenshtein, dtype: int64"
      ]
     },
     "execution_count": 30,
     "metadata": {},
     "output_type": "execute_result"
    }
   ],
   "source": [
    "df[\"edit_distance_levenshtein\"].head(10)"
   ]
  },
  {
   "cell_type": "code",
   "execution_count": 31,
   "metadata": {},
   "outputs": [
    {
     "data": {
      "text/plain": [
       "4.0"
      ]
     },
     "execution_count": 31,
     "metadata": {},
     "output_type": "execute_result"
    },
    {
     "data": {
      "image/png": "[encoded data removed]",
      "text/plain": [
       "<Figure size 640x480 with 1 Axes>"
      ]
     },
     "metadata": {
      "image/png": {
       "height": 433,
       "width": 580
      }
     },
     "output_type": "display_data"
    }
   ],
   "source": [
    "\n",
    "sns.histplot(x=\"edit_distance_levenshtein\", data=df, hue='label_pathogenic')\n",
    "# Choose a cutoff\n",
    "df[\"edit_distance_levenshtein\"].astype(float).quantile(0.98)"
   ]
  },
  {
   "cell_type": "code",
   "execution_count": 32,
   "metadata": {},
   "outputs": [
    {
     "data": {
      "text/plain": [
       "<AxesSubplot: xlabel='edit_distance_levenshtein', ylabel='label_pathogenic'>"
      ]
     },
     "execution_count": 32,
     "metadata": {},
     "output_type": "execute_result"
    },
    {
     "data": {
      "image/png": "[encoded data removed]",
      "text/plain": [
       "<Figure size 640x480 with 1 Axes>"
      ]
     },
     "metadata": {
      "image/png": {
       "height": 433,
       "width": 567
      }
     },
     "output_type": "display_data"
    }
   ],
   "source": [
    "sns.barplot(x=\"edit_distance_levenshtein\", y=\"label_pathogenic\", data=df, orient='v')"
   ]
  },
  {
   "cell_type": "code",
   "execution_count": 33,
   "metadata": {},
   "outputs": [
    {
     "name": "stdout",
     "output_type": "stream",
     "text": [
      "tmp quantile: 3.6000000000000005\n",
      "bin index: 4\n",
      "Prob below: 0.75, prob_above 0.125\n",
      "Probability within bin 0.125\n",
      "probability quantile within bin 0.40000000000000036\n"
     ]
    },
    {
     "data": {
      "text/plain": [
       "0"
      ]
     },
     "execution_count": 33,
     "metadata": {},
     "output_type": "execute_result"
    }
   ],
   "source": [
    "# If bin above cutoff, return 1, if bin below, return 0, if same bin, return a proportion\n",
    "def fuzzy_binning(binned_series, percentile):\n",
    "    pct_bin = binned_series.quantile(percentile)\n",
    "    # The amount of probability in the bins below\n",
    "    probability_below = (binned_series < pct_bin).mean()\n",
    "    assert probability_below <= percentile\n",
    "\n",
    "    probability_above = (binned_series > pct_bin).mean()\n",
    "    assert probability_above >= percentile\n",
    "\n",
    "    prob_remaining = percentile - probability_below\n",
    "\n",
    "    bin_size = (binned_series == int(pct_bin)).mean()\n",
    "    prob_remaining_bin = prob_remaining / bin_size\n",
    "\n",
    "    assert prob_remaining\n",
    "    def get_bin(x):\n",
    "        if x > pct_bin:\n",
    "            return 1\n",
    "        elif x < pct_bin:\n",
    "            return 0\n",
    "        elif x == pct_bin:\n",
    "            return prob_remaining_bin\n",
    "    return get_bin\n",
    "\n",
    "import numpy as np\n",
    "\n",
    "def fuzzy_quantile(binned_series, quantile):\n",
    "    # Calculate the bin containing the quantile value\n",
    "    bin_index = int(binned_series.quantile(quantile, interpolation=\"nearest\"))\n",
    "    print(\"tmp quantile:\", binned_series.quantile(quantile))\n",
    "    print(\"bin index:\", bin_index)\n",
    "\n",
    "    # Determine the amount of probability in the lower/upper bins\n",
    "    total = len(binned_series)\n",
    "    probability_below = ((binned_series < bin_index).sum())/(total)\n",
    "    probability_above = ((binned_series > bin_index).sum())/(total)\n",
    "\n",
    "    print(f\"Prob below: {probability_below}, prob_above {probability_above}\")\n",
    "\n",
    "    assert probability_below <= quantile, (probability_below, quantile)\n",
    "    assert 1-probability_above >= quantile, (1-probability_above, quantile)\n",
    "    assert 1-probability_above >= probability_below\n",
    "\n",
    "    probability_within_bin = (1-probability_above) - probability_below\n",
    "    print(\"Probability within bin\", probability_within_bin)\n",
    "    probability_below_quantile_within_bin = (quantile - probability_below) / (probability_within_bin)\n",
    "    print(\"probability quantile within bin\", probability_below_quantile_within_bin)\n",
    "\n",
    "    def get_fuzzy_bin(x):\n",
    "        assert x == int(x)\n",
    "        if x > bin_index:\n",
    "            return 1\n",
    "        elif x < bin_index:\n",
    "            return 0\n",
    "        elif x == bin_index:\n",
    "            return probability_below_quantile_within_bin\n",
    "\n",
    "    return get_fuzzy_bin\n",
    "\n",
    "test_series = pd.Series([1, 1, 2, 2, 3, 3, 4, 5])\n",
    "bin_func = fuzzy_quantile(test_series, 0.80) # The lower 2 is the 3/7th quantile\n",
    "\n",
    "bin_func(3)"
   ]
  },
  {
   "attachments": {},
   "cell_type": "markdown",
   "metadata": {},
   "source": [
    "# Get scores"
   ]
  },
  {
   "cell_type": "code",
   "execution_count": 49,
   "metadata": {},
   "outputs": [
    {
     "data": {
      "text/plain": [
       "1    0.656938\n",
       "2    0.194258\n",
       "3    0.127751\n",
       "4    0.016268\n",
       "5    0.003349\n",
       "6    0.000957\n",
       "8    0.000478\n",
       "Name: edit_distance_levenshtein, dtype: float64"
      ]
     },
     "metadata": {},
     "output_type": "display_data"
    },
    {
     "name": "stdout",
     "output_type": "stream",
     "text": [
      "cumulative probs: 1    0.656938\n",
      "2    0.851196\n",
      "3    0.978947\n",
      "4    0.995215\n",
      "5    0.998565\n",
      "6    0.999522\n",
      "8    1.000000\n",
      "Name: edit_distance_levenshtein, dtype: float64\n"
     ]
    }
   ],
   "source": [
    "display(df[\"edit_distance_levenshtein\"].value_counts(normalize=True).sort_index())\n",
    "\n",
    "print(\"cumulative probs:\", df[\"edit_distance_levenshtein\"].value_counts(normalize=True).sort_index().cumsum())"
   ]
  },
  {
   "cell_type": "code",
   "execution_count": 40,
   "metadata": {},
   "outputs": [
    {
     "data": {
      "text/plain": [
       "0.6569377990430622"
      ]
     },
     "execution_count": 40,
     "metadata": {},
     "output_type": "execute_result"
    }
   ],
   "source": [
    "sorted_counts = df[\"edit_distance_levenshtein\"].value_counts(normalize=True).sort_index()\n",
    "sorted_counts.iloc[0]"
   ]
  },
  {
   "cell_type": "code",
   "execution_count": 48,
   "metadata": {},
   "outputs": [
    {
     "data": {
      "text/plain": [
       "0.9532019704433498"
      ]
     },
     "execution_count": 48,
     "metadata": {},
     "output_type": "execute_result"
    }
   ],
   "source": [
    "def fuzzy_quantile_counts(sorted_counts, quantile):\n",
    "    # Let's do this the slow way\n",
    "    prob_cumulative = 0\n",
    "    for i in range(len(sorted_counts)):\n",
    "        prob = sorted_counts.values[i]\n",
    "        if prob_cumulative + prob >= quantile:\n",
    "            # The quantile falls in this next bin\n",
    "            index_found = i\n",
    "            break\n",
    "        else:\n",
    "            prob_cumulative += prob\n",
    "    \n",
    "    prob_below = prob_cumulative\n",
    "    bin_value, prob_within_bin = sorted_counts.index[index_found], sorted_counts.iloc[index_found]\n",
    "    quantile_within_bin = (quantile - prob_cumulative) / prob_within_bin\n",
    "    assert 0 <= quantile_within_bin <= 1\n",
    "\n",
    "    def fuzzy_func(x):\n",
    "        if x < bin_value:\n",
    "            return 0\n",
    "        elif x == bin_value:\n",
    "            return quantile_within_bin\n",
    "        else: \n",
    "            return 1\n",
    "    return fuzzy_func\n",
    "\n",
    "sorted_counts = df[\"edit_distance_levenshtein\"].value_counts(normalize=True).sort_index()\n",
    "f = fuzzy_quantile_counts(sorted_counts, prop_pathogenic)\n",
    "\n",
    "f(2)"
   ]
  },
  {
   "cell_type": "code",
   "execution_count": 50,
   "metadata": {},
   "outputs": [],
   "source": [
    "df[\"fuzzy_edit_score\"] = df[\"edit_distance_levenshtein\"].apply(f)"
   ]
  },
  {
   "cell_type": "code",
   "execution_count": 51,
   "metadata": {},
   "outputs": [
    {
     "data": {
      "text/plain": [
       "SpearmanrResult(correlation=-0.044541391264327136, pvalue=0.04174336833002316)"
      ]
     },
     "execution_count": 51,
     "metadata": {},
     "output_type": "execute_result"
    }
   ],
   "source": [
    "spearmanr(df[\"fuzzy_edit_score\"], df[\"label_pathogenic\"])"
   ]
  },
  {
   "cell_type": "code",
   "execution_count": 56,
   "metadata": {},
   "outputs": [
    {
     "data": {
      "text/plain": [
       "0.47037448347107436"
      ]
     },
     "execution_count": 56,
     "metadata": {},
     "output_type": "execute_result"
    }
   ],
   "source": [
    "roc_auc_score(y_score=df[\"fuzzy_edit_score\"], y_true=df[\"label_pathogenic\"])"
   ]
  },
  {
   "cell_type": "code",
   "execution_count": 57,
   "metadata": {},
   "outputs": [
    {
     "data": {
      "text/plain": [
       "0.47063791322314047"
      ]
     },
     "execution_count": 57,
     "metadata": {},
     "output_type": "execute_result"
    }
   ],
   "source": [
    "roc_auc_score(y_score=df[\"edit_distance_levenshtein\"], y_true=df[\"label_pathogenic\"])"
   ]
  },
  {
   "cell_type": "code",
   "execution_count": 59,
   "metadata": {},
   "outputs": [
    {
     "data": {
      "text/plain": [
       "0.5"
      ]
     },
     "execution_count": 59,
     "metadata": {},
     "output_type": "execute_result"
    }
   ],
   "source": [
    "roc_auc_score(y_score=[prop_pathogenic]*len(df), y_true=df[\"label_pathogenic\"])"
   ]
  },
  {
   "cell_type": "code",
   "execution_count": null,
   "metadata": {},
   "outputs": [],
   "source": []
  }
 ],
 "metadata": {
  "kernelspec": {
   "display_name": "general",
   "language": "python",
   "name": "python3"
  },
  "language_info": {
   "codemirror_mode": {
    "name": "ipython",
    "version": 3
   },
   "file_extension": ".py",
   "mimetype": "text/x-python",
   "name": "python",
   "nbconvert_exporter": "python",
   "pygments_lexer": "ipython3",
   "version": "3.10.6"
  },
  "orig_nbformat": 4
 },
 "nbformat": 4,
 "nbformat_minor": 2
}
